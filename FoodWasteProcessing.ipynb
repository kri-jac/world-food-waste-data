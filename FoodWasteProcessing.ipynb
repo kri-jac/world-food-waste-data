{
  "nbformat": 4,
  "nbformat_minor": 0,
  "metadata": {
    "colab": {
      "name": "FoodWasteProcessing.ipynb",
      "provenance": [],
      "authorship_tag": "ABX9TyM8YugW+aDkj8FcZUFm5XIS",
      "include_colab_link": true
    },
    "kernelspec": {
      "name": "python3",
      "display_name": "Python 3"
    }
  },
  "cells": [
    {
      "cell_type": "markdown",
      "metadata": {
        "id": "view-in-github",
        "colab_type": "text"
      },
      "source": [
        "<a href=\"https://colab.research.google.com/github/kri-jac/world-food-waste-data/blob/main/FoodWasteProcessing.ipynb\" target=\"_parent\"><img src=\"https://colab.research.google.com/assets/colab-badge.svg\" alt=\"Open In Colab\"/></a>"
      ]
    },
    {
      "cell_type": "code",
      "metadata": {
        "id": "fWlqsSAhy4X_"
      },
      "source": [
        "import pandas as pd\n",
        "import re\n",
        "\n",
        "url = \"https://raw.githubusercontent.com/kri-jac/world-food-waste-data/main/FAOSTAT_data_12-11-2020.csv\"\n",
        "df = pd.read_csv(url)"
      ],
      "execution_count": 120,
      "outputs": []
    },
    {
      "cell_type": "code",
      "metadata": {
        "colab": {
          "base_uri": "https://localhost:8080/",
          "height": 206
        },
        "id": "8z8ckZfuzRSe",
        "outputId": "f5c8576a-ba4d-41af-c910-1586c7679377"
      },
      "source": [
        "df.head(5)"
      ],
      "execution_count": 121,
      "outputs": [
        {
          "output_type": "execute_result",
          "data": {
            "text/html": [
              "<div>\n",
              "<style scoped>\n",
              "    .dataframe tbody tr th:only-of-type {\n",
              "        vertical-align: middle;\n",
              "    }\n",
              "\n",
              "    .dataframe tbody tr th {\n",
              "        vertical-align: top;\n",
              "    }\n",
              "\n",
              "    .dataframe thead th {\n",
              "        text-align: right;\n",
              "    }\n",
              "</style>\n",
              "<table border=\"1\" class=\"dataframe\">\n",
              "  <thead>\n",
              "    <tr style=\"text-align: right;\">\n",
              "      <th></th>\n",
              "      <th>Area</th>\n",
              "      <th>Item Code</th>\n",
              "      <th>Item</th>\n",
              "      <th>Year</th>\n",
              "      <th>Unit</th>\n",
              "      <th>Value</th>\n",
              "    </tr>\n",
              "  </thead>\n",
              "  <tbody>\n",
              "    <tr>\n",
              "      <th>0</th>\n",
              "      <td>Afghanistan</td>\n",
              "      <td>2511</td>\n",
              "      <td>Wheat and products</td>\n",
              "      <td>2014</td>\n",
              "      <td>1000 tonnes</td>\n",
              "      <td>803</td>\n",
              "    </tr>\n",
              "    <tr>\n",
              "      <th>1</th>\n",
              "      <td>Afghanistan</td>\n",
              "      <td>2511</td>\n",
              "      <td>Wheat and products</td>\n",
              "      <td>2015</td>\n",
              "      <td>1000 tonnes</td>\n",
              "      <td>701</td>\n",
              "    </tr>\n",
              "    <tr>\n",
              "      <th>2</th>\n",
              "      <td>Afghanistan</td>\n",
              "      <td>2511</td>\n",
              "      <td>Wheat and products</td>\n",
              "      <td>2016</td>\n",
              "      <td>1000 tonnes</td>\n",
              "      <td>684</td>\n",
              "    </tr>\n",
              "    <tr>\n",
              "      <th>3</th>\n",
              "      <td>Afghanistan</td>\n",
              "      <td>2511</td>\n",
              "      <td>Wheat and products</td>\n",
              "      <td>2017</td>\n",
              "      <td>1000 tonnes</td>\n",
              "      <td>642</td>\n",
              "    </tr>\n",
              "    <tr>\n",
              "      <th>4</th>\n",
              "      <td>Afghanistan</td>\n",
              "      <td>2805</td>\n",
              "      <td>Rice and products</td>\n",
              "      <td>2014</td>\n",
              "      <td>1000 tonnes</td>\n",
              "      <td>36</td>\n",
              "    </tr>\n",
              "  </tbody>\n",
              "</table>\n",
              "</div>"
            ],
            "text/plain": [
              "          Area  Item Code                Item  Year         Unit  Value\n",
              "0  Afghanistan       2511  Wheat and products  2014  1000 tonnes    803\n",
              "1  Afghanistan       2511  Wheat and products  2015  1000 tonnes    701\n",
              "2  Afghanistan       2511  Wheat and products  2016  1000 tonnes    684\n",
              "3  Afghanistan       2511  Wheat and products  2017  1000 tonnes    642\n",
              "4  Afghanistan       2805   Rice and products  2014  1000 tonnes     36"
            ]
          },
          "metadata": {
            "tags": []
          },
          "execution_count": 121
        }
      ]
    },
    {
      "cell_type": "code",
      "metadata": {
        "id": "QOzBkBKAznUv"
      },
      "source": [
        "df.replace({'China, Taiwan Province of': 'Taiwan'}, regex=True, inplace= True)\n",
        "df.replace({r\"\\BIran\": 'Iran'}, regex=True, inplace= True)\n",
        "df.replace({\"Côte d'Ivoire\": 'Ivory Coast'}, regex=True, inplace= True)\n",
        "df.replace({'Russian Federation': 'Russia'}, regex=True, inplace= True)\n",
        "df.replace({'Viet Nam': 'Vietnam'}, regex=True, inplace= True)\n",
        "df.replace({'United Kingdom of Great Britain and Northern Ireland': 'United Kingdom'}, regex=True, inplace= True)\n",
        "df.replace({r\"\\BVenezuela\": 'Venezuela'}, regex=True, inplace= True)\n",
        "df.replace({\"Democratic People's Republic of Korea\": 'North Korea'}, regex=True, inplace= True)\n",
        "df.replace({r\"\\BBolivia\": 'Bolivia'}, regex=True, inplace= True)\n",
        "df.replace({'Republic of Moldova': 'Moldova'}, regex=True, inplace= True)\n",
        "\n",
        "df.replace({'Republic of Korea': 'South Korea'}, regex=True, inplace= True)\n"
      ],
      "execution_count": 122,
      "outputs": []
    },
    {
      "cell_type": "code",
      "metadata": {
        "id": "-xLAkV5L3G9Q"
      },
      "source": [
        "# Get names of indexes for which column Area == China\n",
        "indexNames = df[ (df['Area'] == 'China') | (df['Area'] == 'China, Macao SAR') | (df['Area'] == 'China, Hong Kong SAR') ].index\n",
        "# Delete these row indexes from dataFrame\n",
        "df.drop(indexNames , inplace=True)"
      ],
      "execution_count": 123,
      "outputs": []
    },
    {
      "cell_type": "code",
      "metadata": {
        "id": "-yIL8QgT4rC7"
      },
      "source": [
        "df.replace({'China, mainland': 'China'}, regex=True, inplace= True)"
      ],
      "execution_count": 124,
      "outputs": []
    },
    {
      "cell_type": "code",
      "metadata": {
        "colab": {
          "base_uri": "https://localhost:8080/"
        },
        "id": "725-cLqy0ROX",
        "outputId": "e76d8e47-7147-482d-f532-592e776e5b92"
      },
      "source": [
        "from google.colab import drive\n",
        "drive.mount('drive', force_remount= True)"
      ],
      "execution_count": 125,
      "outputs": [
        {
          "output_type": "stream",
          "text": [
            "Mounted at drive\n"
          ],
          "name": "stdout"
        }
      ]
    },
    {
      "cell_type": "code",
      "metadata": {
        "id": "Cg9g7JDf0lMh"
      },
      "source": [
        "df.to_csv('foodWasteNew.csv', index = False)\n",
        "!cp foodWasteNew.csv \"drive/My Drive/\""
      ],
      "execution_count": 126,
      "outputs": []
    },
    {
      "cell_type": "code",
      "metadata": {
        "id": "OCKRyY-MdxmO"
      },
      "source": [
        "# create a new dataframe to store the values\n",
        "dfWaste = pd.DataFrame(columns=['Country','Year','TotalWaste'])"
      ],
      "execution_count": 127,
      "outputs": []
    },
    {
      "cell_type": "code",
      "metadata": {
        "id": "moBo-WoqdDlz"
      },
      "source": [
        "# list all unique values for Area\n",
        "unique = df.Area.unique()\n",
        "uniqueYear = df.Year.unique()"
      ],
      "execution_count": 128,
      "outputs": []
    },
    {
      "cell_type": "code",
      "metadata": {
        "id": "fWl5TUL-caBt"
      },
      "source": [
        "# sum all the values for each country\n",
        "for x in unique:\n",
        "  for z in uniqueYear:\n",
        "    y = df.loc[(df['Area'] == x) & (df['Year'] == z), 'Value'].sum()\n",
        "    dfWaste = dfWaste.append({'Country': x, 'Year' : z, 'TotalWaste': y}, ignore_index=True)\n"
      ],
      "execution_count": 129,
      "outputs": []
    },
    {
      "cell_type": "code",
      "metadata": {
        "id": "dh-QywVye4PX"
      },
      "source": [
        "dfFoodItems = pd.DataFrame(columns=['Food Item','Year','TotalWaste'])"
      ],
      "execution_count": 130,
      "outputs": []
    },
    {
      "cell_type": "code",
      "metadata": {
        "id": "52Z5Yx7dhE4e"
      },
      "source": [
        "uniqueItem = df.Item.unique()"
      ],
      "execution_count": 131,
      "outputs": []
    },
    {
      "cell_type": "code",
      "metadata": {
        "id": "sj2o9UJShUWK"
      },
      "source": [
        "for x in uniqueItem:\n",
        "  for z in uniqueYear:\n",
        "    y = df.loc[(df['Item'] == x) & (df['Year'] == z), 'Value'].sum()\n",
        "    dfFoodItems = dfFoodItems.append({'Food Item': x, 'Year' : z, 'TotalWaste': y}, ignore_index=True)\n"
      ],
      "execution_count": 132,
      "outputs": []
    },
    {
      "cell_type": "code",
      "metadata": {
        "id": "XxISnBvOhaQa"
      },
      "source": [
        "dfWaste.to_csv('perYearCountryFoodWaste.csv', index = False)\n",
        "!cp perYearCountryFoodWaste.csv \"drive/My Drive/\"\n",
        "\n",
        "dfFoodItems.to_csv('perYearItemFoodWaste.csv', index = False)\n",
        "!cp perYearItemFoodWaste.csv \"drive/My Drive/\""
      ],
      "execution_count": 133,
      "outputs": []
    }
  ]
}